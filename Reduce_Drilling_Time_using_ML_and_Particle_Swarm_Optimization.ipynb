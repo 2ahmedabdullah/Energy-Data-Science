{
  "nbformat": 4,
  "nbformat_minor": 0,
  "metadata": {
    "colab": {
      "provenance": []
    },
    "kernelspec": {
      "name": "python3",
      "display_name": "Python 3"
    },
    "language_info": {
      "name": "python"
    }
  },
  "cells": [
    {
      "cell_type": "code",
      "execution_count": 6,
      "metadata": {
        "id": "0PdJNHw6cGv6"
      },
      "outputs": [],
      "source": [
        "import numpy as np\n",
        "import pandas as pd\n",
        "import matplotlib.pyplot as plt\n",
        "from scipy import interpolate\n",
        "import seaborn as sns\n",
        "plt.rcParams['font.size'] = 10\n",
        "\n",
        "!pip -q install pyswarm\n",
        "from pyswarm import pso\n",
        "\n",
        "from sklearn.model_selection import train_test_split\n",
        "from sklearn.preprocessing import StandardScaler\n",
        "from sklearn.pipeline import Pipeline\n",
        "from sklearn.ensemble import GradientBoostingRegressor"
      ]
    },
    {
      "cell_type": "code",
      "source": [
        "import warnings\n",
        "warnings.filterwarnings('ignore')"
      ],
      "metadata": {
        "id": "wRHf3lsrfNmv"
      },
      "execution_count": 15,
      "outputs": []
    },
    {
      "cell_type": "markdown",
      "source": [
        "**About the Dataset:**\n",
        "\n",
        "The dataset that we are going to use is arranged from two original data.\n",
        "Real-time drilling data and a Computed Petrophysical Output (CPO) log data from well number 15/9-F-15 in the Volve Oil Field in the North Sea."
      ],
      "metadata": {
        "id": "Dsu7FjEAdDnV"
      }
    },
    {
      "cell_type": "code",
      "source": [
        "# Read from path to CSV file\n",
        "path = 'https://raw.githubusercontent.com/yohanesnuwara/volve-machine-learning/main/Data_for_ROP_optimization.csv'\n",
        "df = pd.read_csv(path)\n",
        "\n",
        "df.head()"
      ],
      "metadata": {
        "colab": {
          "base_uri": "https://localhost:8080/",
          "height": 206
        },
        "id": "o8IKSSlZcLGi",
        "outputId": "5b82444a-9bca-45dd-e831-84d72220a82e"
      },
      "execution_count": 4,
      "outputs": [
        {
          "output_type": "execute_result",
          "data": {
            "text/plain": [
              "    Depth        WOB  SURF_RPM   ROP_AVG      PHIF       VSH   SW  KLOGH\n",
              "0  3305.0  26217.864  1.314720  0.004088  0.086711  0.071719  1.0  0.001\n",
              "1  3310.0  83492.293  1.328674  0.005159  0.095208  0.116548  1.0  0.001\n",
              "2  3315.0  97087.882  1.420116  0.005971  0.061636  0.104283  1.0  0.001\n",
              "3  3320.0  54793.206  1.593931  0.005419  0.043498  0.110040  1.0  0.001\n",
              "4  3325.0  50301.579  1.653262  0.005435  0.035252  0.120808  1.0  0.001"
            ],
            "text/html": [
              "\n",
              "  <div id=\"df-bbccb8ad-b610-4bf3-a2fa-2a0f340d26c3\" class=\"colab-df-container\">\n",
              "    <div>\n",
              "<style scoped>\n",
              "    .dataframe tbody tr th:only-of-type {\n",
              "        vertical-align: middle;\n",
              "    }\n",
              "\n",
              "    .dataframe tbody tr th {\n",
              "        vertical-align: top;\n",
              "    }\n",
              "\n",
              "    .dataframe thead th {\n",
              "        text-align: right;\n",
              "    }\n",
              "</style>\n",
              "<table border=\"1\" class=\"dataframe\">\n",
              "  <thead>\n",
              "    <tr style=\"text-align: right;\">\n",
              "      <th></th>\n",
              "      <th>Depth</th>\n",
              "      <th>WOB</th>\n",
              "      <th>SURF_RPM</th>\n",
              "      <th>ROP_AVG</th>\n",
              "      <th>PHIF</th>\n",
              "      <th>VSH</th>\n",
              "      <th>SW</th>\n",
              "      <th>KLOGH</th>\n",
              "    </tr>\n",
              "  </thead>\n",
              "  <tbody>\n",
              "    <tr>\n",
              "      <th>0</th>\n",
              "      <td>3305.0</td>\n",
              "      <td>26217.864</td>\n",
              "      <td>1.314720</td>\n",
              "      <td>0.004088</td>\n",
              "      <td>0.086711</td>\n",
              "      <td>0.071719</td>\n",
              "      <td>1.0</td>\n",
              "      <td>0.001</td>\n",
              "    </tr>\n",
              "    <tr>\n",
              "      <th>1</th>\n",
              "      <td>3310.0</td>\n",
              "      <td>83492.293</td>\n",
              "      <td>1.328674</td>\n",
              "      <td>0.005159</td>\n",
              "      <td>0.095208</td>\n",
              "      <td>0.116548</td>\n",
              "      <td>1.0</td>\n",
              "      <td>0.001</td>\n",
              "    </tr>\n",
              "    <tr>\n",
              "      <th>2</th>\n",
              "      <td>3315.0</td>\n",
              "      <td>97087.882</td>\n",
              "      <td>1.420116</td>\n",
              "      <td>0.005971</td>\n",
              "      <td>0.061636</td>\n",
              "      <td>0.104283</td>\n",
              "      <td>1.0</td>\n",
              "      <td>0.001</td>\n",
              "    </tr>\n",
              "    <tr>\n",
              "      <th>3</th>\n",
              "      <td>3320.0</td>\n",
              "      <td>54793.206</td>\n",
              "      <td>1.593931</td>\n",
              "      <td>0.005419</td>\n",
              "      <td>0.043498</td>\n",
              "      <td>0.110040</td>\n",
              "      <td>1.0</td>\n",
              "      <td>0.001</td>\n",
              "    </tr>\n",
              "    <tr>\n",
              "      <th>4</th>\n",
              "      <td>3325.0</td>\n",
              "      <td>50301.579</td>\n",
              "      <td>1.653262</td>\n",
              "      <td>0.005435</td>\n",
              "      <td>0.035252</td>\n",
              "      <td>0.120808</td>\n",
              "      <td>1.0</td>\n",
              "      <td>0.001</td>\n",
              "    </tr>\n",
              "  </tbody>\n",
              "</table>\n",
              "</div>\n",
              "    <div class=\"colab-df-buttons\">\n",
              "\n",
              "  <div class=\"colab-df-container\">\n",
              "    <button class=\"colab-df-convert\" onclick=\"convertToInteractive('df-bbccb8ad-b610-4bf3-a2fa-2a0f340d26c3')\"\n",
              "            title=\"Convert this dataframe to an interactive table.\"\n",
              "            style=\"display:none;\">\n",
              "\n",
              "  <svg xmlns=\"http://www.w3.org/2000/svg\" height=\"24px\" viewBox=\"0 -960 960 960\">\n",
              "    <path d=\"M120-120v-720h720v720H120Zm60-500h600v-160H180v160Zm220 220h160v-160H400v160Zm0 220h160v-160H400v160ZM180-400h160v-160H180v160Zm440 0h160v-160H620v160ZM180-180h160v-160H180v160Zm440 0h160v-160H620v160Z\"/>\n",
              "  </svg>\n",
              "    </button>\n",
              "\n",
              "  <style>\n",
              "    .colab-df-container {\n",
              "      display:flex;\n",
              "      gap: 12px;\n",
              "    }\n",
              "\n",
              "    .colab-df-convert {\n",
              "      background-color: #E8F0FE;\n",
              "      border: none;\n",
              "      border-radius: 50%;\n",
              "      cursor: pointer;\n",
              "      display: none;\n",
              "      fill: #1967D2;\n",
              "      height: 32px;\n",
              "      padding: 0 0 0 0;\n",
              "      width: 32px;\n",
              "    }\n",
              "\n",
              "    .colab-df-convert:hover {\n",
              "      background-color: #E2EBFA;\n",
              "      box-shadow: 0px 1px 2px rgba(60, 64, 67, 0.3), 0px 1px 3px 1px rgba(60, 64, 67, 0.15);\n",
              "      fill: #174EA6;\n",
              "    }\n",
              "\n",
              "    .colab-df-buttons div {\n",
              "      margin-bottom: 4px;\n",
              "    }\n",
              "\n",
              "    [theme=dark] .colab-df-convert {\n",
              "      background-color: #3B4455;\n",
              "      fill: #D2E3FC;\n",
              "    }\n",
              "\n",
              "    [theme=dark] .colab-df-convert:hover {\n",
              "      background-color: #434B5C;\n",
              "      box-shadow: 0px 1px 3px 1px rgba(0, 0, 0, 0.15);\n",
              "      filter: drop-shadow(0px 1px 2px rgba(0, 0, 0, 0.3));\n",
              "      fill: #FFFFFF;\n",
              "    }\n",
              "  </style>\n",
              "\n",
              "    <script>\n",
              "      const buttonEl =\n",
              "        document.querySelector('#df-bbccb8ad-b610-4bf3-a2fa-2a0f340d26c3 button.colab-df-convert');\n",
              "      buttonEl.style.display =\n",
              "        google.colab.kernel.accessAllowed ? 'block' : 'none';\n",
              "\n",
              "      async function convertToInteractive(key) {\n",
              "        const element = document.querySelector('#df-bbccb8ad-b610-4bf3-a2fa-2a0f340d26c3');\n",
              "        const dataTable =\n",
              "          await google.colab.kernel.invokeFunction('convertToInteractive',\n",
              "                                                    [key], {});\n",
              "        if (!dataTable) return;\n",
              "\n",
              "        const docLinkHtml = 'Like what you see? Visit the ' +\n",
              "          '<a target=\"_blank\" href=https://colab.research.google.com/notebooks/data_table.ipynb>data table notebook</a>'\n",
              "          + ' to learn more about interactive tables.';\n",
              "        element.innerHTML = '';\n",
              "        dataTable['output_type'] = 'display_data';\n",
              "        await google.colab.output.renderOutput(dataTable, element);\n",
              "        const docLink = document.createElement('div');\n",
              "        docLink.innerHTML = docLinkHtml;\n",
              "        element.appendChild(docLink);\n",
              "      }\n",
              "    </script>\n",
              "  </div>\n",
              "\n",
              "\n",
              "<div id=\"df-b969d07a-13db-4089-9da8-25df3f382b5f\">\n",
              "  <button class=\"colab-df-quickchart\" onclick=\"quickchart('df-b969d07a-13db-4089-9da8-25df3f382b5f')\"\n",
              "            title=\"Suggest charts\"\n",
              "            style=\"display:none;\">\n",
              "\n",
              "<svg xmlns=\"http://www.w3.org/2000/svg\" height=\"24px\"viewBox=\"0 0 24 24\"\n",
              "     width=\"24px\">\n",
              "    <g>\n",
              "        <path d=\"M19 3H5c-1.1 0-2 .9-2 2v14c0 1.1.9 2 2 2h14c1.1 0 2-.9 2-2V5c0-1.1-.9-2-2-2zM9 17H7v-7h2v7zm4 0h-2V7h2v10zm4 0h-2v-4h2v4z\"/>\n",
              "    </g>\n",
              "</svg>\n",
              "  </button>\n",
              "\n",
              "<style>\n",
              "  .colab-df-quickchart {\n",
              "      --bg-color: #E8F0FE;\n",
              "      --fill-color: #1967D2;\n",
              "      --hover-bg-color: #E2EBFA;\n",
              "      --hover-fill-color: #174EA6;\n",
              "      --disabled-fill-color: #AAA;\n",
              "      --disabled-bg-color: #DDD;\n",
              "  }\n",
              "\n",
              "  [theme=dark] .colab-df-quickchart {\n",
              "      --bg-color: #3B4455;\n",
              "      --fill-color: #D2E3FC;\n",
              "      --hover-bg-color: #434B5C;\n",
              "      --hover-fill-color: #FFFFFF;\n",
              "      --disabled-bg-color: #3B4455;\n",
              "      --disabled-fill-color: #666;\n",
              "  }\n",
              "\n",
              "  .colab-df-quickchart {\n",
              "    background-color: var(--bg-color);\n",
              "    border: none;\n",
              "    border-radius: 50%;\n",
              "    cursor: pointer;\n",
              "    display: none;\n",
              "    fill: var(--fill-color);\n",
              "    height: 32px;\n",
              "    padding: 0;\n",
              "    width: 32px;\n",
              "  }\n",
              "\n",
              "  .colab-df-quickchart:hover {\n",
              "    background-color: var(--hover-bg-color);\n",
              "    box-shadow: 0 1px 2px rgba(60, 64, 67, 0.3), 0 1px 3px 1px rgba(60, 64, 67, 0.15);\n",
              "    fill: var(--button-hover-fill-color);\n",
              "  }\n",
              "\n",
              "  .colab-df-quickchart-complete:disabled,\n",
              "  .colab-df-quickchart-complete:disabled:hover {\n",
              "    background-color: var(--disabled-bg-color);\n",
              "    fill: var(--disabled-fill-color);\n",
              "    box-shadow: none;\n",
              "  }\n",
              "\n",
              "  .colab-df-spinner {\n",
              "    border: 2px solid var(--fill-color);\n",
              "    border-color: transparent;\n",
              "    border-bottom-color: var(--fill-color);\n",
              "    animation:\n",
              "      spin 1s steps(1) infinite;\n",
              "  }\n",
              "\n",
              "  @keyframes spin {\n",
              "    0% {\n",
              "      border-color: transparent;\n",
              "      border-bottom-color: var(--fill-color);\n",
              "      border-left-color: var(--fill-color);\n",
              "    }\n",
              "    20% {\n",
              "      border-color: transparent;\n",
              "      border-left-color: var(--fill-color);\n",
              "      border-top-color: var(--fill-color);\n",
              "    }\n",
              "    30% {\n",
              "      border-color: transparent;\n",
              "      border-left-color: var(--fill-color);\n",
              "      border-top-color: var(--fill-color);\n",
              "      border-right-color: var(--fill-color);\n",
              "    }\n",
              "    40% {\n",
              "      border-color: transparent;\n",
              "      border-right-color: var(--fill-color);\n",
              "      border-top-color: var(--fill-color);\n",
              "    }\n",
              "    60% {\n",
              "      border-color: transparent;\n",
              "      border-right-color: var(--fill-color);\n",
              "    }\n",
              "    80% {\n",
              "      border-color: transparent;\n",
              "      border-right-color: var(--fill-color);\n",
              "      border-bottom-color: var(--fill-color);\n",
              "    }\n",
              "    90% {\n",
              "      border-color: transparent;\n",
              "      border-bottom-color: var(--fill-color);\n",
              "    }\n",
              "  }\n",
              "</style>\n",
              "\n",
              "  <script>\n",
              "    async function quickchart(key) {\n",
              "      const quickchartButtonEl =\n",
              "        document.querySelector('#' + key + ' button');\n",
              "      quickchartButtonEl.disabled = true;  // To prevent multiple clicks.\n",
              "      quickchartButtonEl.classList.add('colab-df-spinner');\n",
              "      try {\n",
              "        const charts = await google.colab.kernel.invokeFunction(\n",
              "            'suggestCharts', [key], {});\n",
              "      } catch (error) {\n",
              "        console.error('Error during call to suggestCharts:', error);\n",
              "      }\n",
              "      quickchartButtonEl.classList.remove('colab-df-spinner');\n",
              "      quickchartButtonEl.classList.add('colab-df-quickchart-complete');\n",
              "    }\n",
              "    (() => {\n",
              "      let quickchartButtonEl =\n",
              "        document.querySelector('#df-b969d07a-13db-4089-9da8-25df3f382b5f button');\n",
              "      quickchartButtonEl.style.display =\n",
              "        google.colab.kernel.accessAllowed ? 'block' : 'none';\n",
              "    })();\n",
              "  </script>\n",
              "</div>\n",
              "    </div>\n",
              "  </div>\n"
            ]
          },
          "metadata": {},
          "execution_count": 4
        }
      ]
    },
    {
      "cell_type": "code",
      "source": [
        "#Visualization of drilling and geophysical log data\n",
        "#Display logs\n",
        "logs = df.columns[1:]\n",
        "colors = ['red', 'orange', 'green', 'cyan', 'blue', 'violet', 'purple']\n",
        "\n",
        "plt.figure(figsize=(15,5))\n",
        "for i in range(len(logs)):\n",
        "  plt.subplot(1,8,i+1)\n",
        "  plt.plot(df[logs[i]], df.Depth, color=colors[i])\n",
        "  plt.title(logs[i])\n",
        "  plt.gca().invert_yaxis()\n",
        "\n",
        "plt.tight_layout()"
      ],
      "metadata": {
        "colab": {
          "base_uri": "https://localhost:8080/",
          "height": 507
        },
        "id": "sbsSQXebcRrd",
        "outputId": "0a75fa71-cd91-4a04-fb6e-86af766c8896"
      },
      "execution_count": 9,
      "outputs": [
        {
          "output_type": "display_data",
          "data": {
            "text/plain": [
              "<Figure size 1500x500 with 7 Axes>"
            ],
            "image/png": "[encoded data removed]"
          },
          "metadata": {}
        }
      ]
    },
    {
      "cell_type": "markdown",
      "source": [
        "Interval 3,480–3,500 m where the **ROP** drops to 0.002 m/s. This **sudden break** may be caused by two factors; expected or unexpected causes. The expected cause can be high formation pressure so that the driller avoids accidents. The unexpected cause is insufficient **WOB** and **RPM**.\n",
        "\n",
        "Because we do not have details about formation pressure, we assume that this sudden break is unexpected. As we observe at depth 3,480 m, the **WOB** is about 31,000 N and RPM is 2 when the **ROP** drops to 0.002 m/s. We hypothesize that the **WOB** and **RPM** are insufficient to keep the **ROP** above."
      ],
      "metadata": {
        "id": "MEXK-PmUeHC9"
      }
    },
    {
      "cell_type": "markdown",
      "source": [
        "**We will answer two questions in this Analysis:**\n",
        "\n",
        "\n",
        "\n",
        "1.   What causes the ROP to suddenly drop at depth 3,480 m?\n",
        "2.   What values of WOB and RPM are needed to optimize the ROP?\n",
        "\n",
        "\n"
      ],
      "metadata": {
        "id": "lGE5VGdEebCH"
      }
    },
    {
      "cell_type": "markdown",
      "source": [
        "# **Gradient Boosting Machine for ROP prediction**"
      ],
      "metadata": {
        "id": "KZ-mOPiSe0yO"
      }
    },
    {
      "cell_type": "code",
      "source": [
        "# Separate feature and target\n",
        "X = df.drop(['ROP_AVG'], axis=1)\n",
        "y = df['ROP_AVG']\n",
        "\n",
        "# Train test split\n",
        "X_train, X_test, y_train, y_test = train_test_split(X, y, test_size=0.2, random_state=10)\n",
        "\n",
        "# Make pipeline\n",
        "steps = [('scaler', StandardScaler()),\n",
        "         ('gbr', GradientBoostingRegressor(min_samples_leaf=6, max_depth=20, random_state=10))]\n",
        "pipe = Pipeline(steps)\n",
        "\n",
        "# Fit pipeline to training data\n",
        "pipe.fit(X_train,y_train)\n",
        "\n",
        "# Evaluate model with R2 metric\n",
        "train_score = pipe.score(X_train, y_train)\n",
        "test_score = pipe.score(X_test, y_test)\n",
        "print(f'R2 on train set: {train_score:.2f}')\n",
        "print(f'R2 on test set: {test_score:.2f}')"
      ],
      "metadata": {
        "colab": {
          "base_uri": "https://localhost:8080/"
        },
        "id": "d7OMaeNrez4d",
        "outputId": "3d6f9fb6-dfa7-49f0-f529-eafce8249777"
      },
      "execution_count": 11,
      "outputs": [
        {
          "output_type": "stream",
          "name": "stdout",
          "text": [
            "R2 on train set: 0.98\n",
            "R2 on test set: 0.77\n"
          ]
        }
      ]
    },
    {
      "cell_type": "code",
      "source": [
        "def predict(model, Depth, PHIF, VSH, SW, KLOGH, WOB, SURF_RPM):\n",
        "  # Make a test input\n",
        "  X_test = np.array([Depth, WOB, SURF_RPM, PHIF, VSH, SW, KLOGH])\n",
        "  X_test = X_test.reshape(1,-1)\n",
        "\n",
        "  # Predict on a test input\n",
        "  y_pred = model.predict(X_test)\n",
        "  return y_pred[0]\n"
      ],
      "metadata": {
        "id": "801oqAvucUPO"
      },
      "execution_count": 13,
      "outputs": []
    },
    {
      "cell_type": "code",
      "source": [
        "# Predict on new inputs\n",
        "predict(pipe, 4000, 0.2, 0.5, 1, 500, WOB=5e4, SURF_RPM=2)"
      ],
      "metadata": {
        "colab": {
          "base_uri": "https://localhost:8080/"
        },
        "id": "GKdnUjYAfAzY",
        "outputId": "efb75152-e7c0-408d-8ec2-963c52d395aa"
      },
      "execution_count": 16,
      "outputs": [
        {
          "output_type": "execute_result",
          "data": {
            "text/plain": [
              "0.008385100886684715"
            ]
          },
          "metadata": {},
          "execution_count": 16
        }
      ]
    },
    {
      "cell_type": "markdown",
      "source": [
        "## **Optimization using Particle Swarm**"
      ],
      "metadata": {
        "id": "vbxCxD9CfukK"
      }
    },
    {
      "cell_type": "markdown",
      "source": [
        "To **optimize** the **ROP** at depth 3,480 m where the **sudden break of ROP occurs**. We used the model to generate a “prediction space” of ROP as a function of WOB and RPM. To do this, we make a **range** of **WOB** and **RPM** values and keep other input variables constant. The constant input variables are those obtained from our data at 3,480 m.\n",
        "\n",
        "**Depth**: 3,480 m\n",
        "\n",
        "**PHIF**: 0.09\n",
        "\n",
        "**VSH**: 0.1\n",
        "\n",
        "**SW**: 1\n",
        "\n",
        "**KLOGH**: 0.01 md\n",
        "\n",
        "**WOB**: range (17,000–90,000) N\n",
        "\n",
        "**RPM**: range (1.5–2.5)"
      ],
      "metadata": {
        "id": "HRYq9Op7gHSH"
      }
    },
    {
      "cell_type": "code",
      "source": [
        "\n",
        "def plot_space(model, WOB, SURF_RPM, constant_inputs):\n",
        "  N_matrix = np.empty((len(WOB), len(SURF_RPM)))\n",
        "  for i in range(len(WOB)):\n",
        "    for j in range(len(SURF_RPM)):\n",
        "      # Unwrap constant variables\n",
        "      Depth, PHIF, VSH, SW, KLOGH = constant_inputs.values()\n",
        "      N = predict(model, Depth, PHIF, VSH, SW, KLOGH, WOB=WOB[i], SURF_RPM=SURF_RPM[j])\n",
        "      N_matrix[i][j] = N\n",
        "\n",
        "  plt.imshow(N_matrix, origin='lower', aspect='auto', cmap='inferno',\n",
        "             extent=(min(SURF_RPM), max(SURF_RPM), min(WOB), max(WOB)))\n",
        "  plt.xlabel('SURF_RPM')\n",
        "  plt.ylabel('WOB')\n",
        "  plt.title('ROP_AVG', pad=10)\n",
        "  plt.colorbar()"
      ],
      "metadata": {
        "id": "nlZ9nZt3gaRq"
      },
      "execution_count": 17,
      "outputs": []
    },
    {
      "cell_type": "code",
      "source": [
        "# Range of WOB and RPM values\n",
        "WOB = np.linspace(17e3, 90e3, 30)\n",
        "SURF_RPM = np.linspace(1.5, 2.5, 30)\n",
        "\n",
        "# Constant input variables\n",
        "constant_inputs = {'Depth': 3480, 'PHIF': 0.09, 'VSH': 0.1,\n",
        "                   'SW': 1, 'KLOGH': 0.001}\n"
      ],
      "metadata": {
        "id": "NVirxrbJgYGP"
      },
      "execution_count": 18,
      "outputs": []
    },
    {
      "cell_type": "code",
      "source": [
        "# Plot prediction space\n",
        "plot_space(pipe, WOB, SURF_RPM, constant_inputs)"
      ],
      "metadata": {
        "colab": {
          "base_uri": "https://localhost:8080/",
          "height": 477
        },
        "id": "i12Ct-91gGiV",
        "outputId": "3d7d7ef9-797d-4793-fb1c-640d32d0ff9b"
      },
      "execution_count": 19,
      "outputs": [
        {
          "output_type": "display_data",
          "data": {
            "text/plain": [
              "<Figure size 640x480 with 2 Axes>"
            ],
            "image/png": "[encoded data removed]"
          },
          "metadata": {}
        }
      ]
    },
    {
      "cell_type": "code",
      "source": [
        "# Data at depth 3480 m\n",
        "df[df.Depth==3480]"
      ],
      "metadata": {
        "colab": {
          "base_uri": "https://localhost:8080/",
          "height": 80
        },
        "id": "ABxuC0YWn0VH",
        "outputId": "5b63d6ed-00c5-4e8c-9d2b-7ad4be6806e0"
      },
      "execution_count": 28,
      "outputs": [
        {
          "output_type": "execute_result",
          "data": {
            "text/plain": [
              "     Depth        WOB  SURF_RPM  ROP_AVG      PHIF       VSH   SW  KLOGH\n",
              "33  3480.0  31236.811  1.999362  0.00271  0.086571  0.139695  1.0  0.001"
            ],
            "text/html": [
              "\n",
              "  <div id=\"df-3e07d3b2-25ce-4619-ad73-858a7cba7966\" class=\"colab-df-container\">\n",
              "    <div>\n",
              "<style scoped>\n",
              "    .dataframe tbody tr th:only-of-type {\n",
              "        vertical-align: middle;\n",
              "    }\n",
              "\n",
              "    .dataframe tbody tr th {\n",
              "        vertical-align: top;\n",
              "    }\n",
              "\n",
              "    .dataframe thead th {\n",
              "        text-align: right;\n",
              "    }\n",
              "</style>\n",
              "<table border=\"1\" class=\"dataframe\">\n",
              "  <thead>\n",
              "    <tr style=\"text-align: right;\">\n",
              "      <th></th>\n",
              "      <th>Depth</th>\n",
              "      <th>WOB</th>\n",
              "      <th>SURF_RPM</th>\n",
              "      <th>ROP_AVG</th>\n",
              "      <th>PHIF</th>\n",
              "      <th>VSH</th>\n",
              "      <th>SW</th>\n",
              "      <th>KLOGH</th>\n",
              "    </tr>\n",
              "  </thead>\n",
              "  <tbody>\n",
              "    <tr>\n",
              "      <th>33</th>\n",
              "      <td>3480.0</td>\n",
              "      <td>31236.811</td>\n",
              "      <td>1.999362</td>\n",
              "      <td>0.00271</td>\n",
              "      <td>0.086571</td>\n",
              "      <td>0.139695</td>\n",
              "      <td>1.0</td>\n",
              "      <td>0.001</td>\n",
              "    </tr>\n",
              "  </tbody>\n",
              "</table>\n",
              "</div>\n",
              "    <div class=\"colab-df-buttons\">\n",
              "\n",
              "  <div class=\"colab-df-container\">\n",
              "    <button class=\"colab-df-convert\" onclick=\"convertToInteractive('df-3e07d3b2-25ce-4619-ad73-858a7cba7966')\"\n",
              "            title=\"Convert this dataframe to an interactive table.\"\n",
              "            style=\"display:none;\">\n",
              "\n",
              "  <svg xmlns=\"http://www.w3.org/2000/svg\" height=\"24px\" viewBox=\"0 -960 960 960\">\n",
              "    <path d=\"M120-120v-720h720v720H120Zm60-500h600v-160H180v160Zm220 220h160v-160H400v160Zm0 220h160v-160H400v160ZM180-400h160v-160H180v160Zm440 0h160v-160H620v160ZM180-180h160v-160H180v160Zm440 0h160v-160H620v160Z\"/>\n",
              "  </svg>\n",
              "    </button>\n",
              "\n",
              "  <style>\n",
              "    .colab-df-container {\n",
              "      display:flex;\n",
              "      gap: 12px;\n",
              "    }\n",
              "\n",
              "    .colab-df-convert {\n",
              "      background-color: #E8F0FE;\n",
              "      border: none;\n",
              "      border-radius: 50%;\n",
              "      cursor: pointer;\n",
              "      display: none;\n",
              "      fill: #1967D2;\n",
              "      height: 32px;\n",
              "      padding: 0 0 0 0;\n",
              "      width: 32px;\n",
              "    }\n",
              "\n",
              "    .colab-df-convert:hover {\n",
              "      background-color: #E2EBFA;\n",
              "      box-shadow: 0px 1px 2px rgba(60, 64, 67, 0.3), 0px 1px 3px 1px rgba(60, 64, 67, 0.15);\n",
              "      fill: #174EA6;\n",
              "    }\n",
              "\n",
              "    .colab-df-buttons div {\n",
              "      margin-bottom: 4px;\n",
              "    }\n",
              "\n",
              "    [theme=dark] .colab-df-convert {\n",
              "      background-color: #3B4455;\n",
              "      fill: #D2E3FC;\n",
              "    }\n",
              "\n",
              "    [theme=dark] .colab-df-convert:hover {\n",
              "      background-color: #434B5C;\n",
              "      box-shadow: 0px 1px 3px 1px rgba(0, 0, 0, 0.15);\n",
              "      filter: drop-shadow(0px 1px 2px rgba(0, 0, 0, 0.3));\n",
              "      fill: #FFFFFF;\n",
              "    }\n",
              "  </style>\n",
              "\n",
              "    <script>\n",
              "      const buttonEl =\n",
              "        document.querySelector('#df-3e07d3b2-25ce-4619-ad73-858a7cba7966 button.colab-df-convert');\n",
              "      buttonEl.style.display =\n",
              "        google.colab.kernel.accessAllowed ? 'block' : 'none';\n",
              "\n",
              "      async function convertToInteractive(key) {\n",
              "        const element = document.querySelector('#df-3e07d3b2-25ce-4619-ad73-858a7cba7966');\n",
              "        const dataTable =\n",
              "          await google.colab.kernel.invokeFunction('convertToInteractive',\n",
              "                                                    [key], {});\n",
              "        if (!dataTable) return;\n",
              "\n",
              "        const docLinkHtml = 'Like what you see? Visit the ' +\n",
              "          '<a target=\"_blank\" href=https://colab.research.google.com/notebooks/data_table.ipynb>data table notebook</a>'\n",
              "          + ' to learn more about interactive tables.';\n",
              "        element.innerHTML = '';\n",
              "        dataTable['output_type'] = 'display_data';\n",
              "        await google.colab.output.renderOutput(dataTable, element);\n",
              "        const docLink = document.createElement('div');\n",
              "        docLink.innerHTML = docLinkHtml;\n",
              "        element.appendChild(docLink);\n",
              "      }\n",
              "    </script>\n",
              "  </div>\n",
              "\n",
              "    </div>\n",
              "  </div>\n"
            ]
          },
          "metadata": {},
          "execution_count": 28
        }
      ]
    },
    {
      "cell_type": "markdown",
      "source": [
        "From this plot, we see that at depth 3,480 m, **high ROP** is achieved at **WOB** above 42,000 N and **RPM** ranges from 1.8 to 2.\n",
        "\n",
        "We can clearly find the reason why the **ROP drops**! In the data, we knew that the **WOB** is only 31,000 N, which is below the accepted window of WOB to optimize the ROP."
      ],
      "metadata": {
        "id": "EjEXJgfQgxUh"
      }
    },
    {
      "cell_type": "markdown",
      "source": [
        "**Conclusion**\n",
        "\n",
        "We have shown how to use **Gradient Boosting Machine** and **Particle Swarm Optimization** to **optimize** the **Rate of Penetration in drilling**.\n",
        "\n",
        "\n",
        "\n",
        "1.   The **ROP** drops down to 0.002 m/s at depth 3,480 m because of an **insufficient** WOB of 31,000 N.\n",
        "2.   The most **optimum** **ROP** at depth 3,480 m is 0.0055 m. It can be **achieved** with a WOB of approximately 74,000 N and RPM 2.\n",
        "\n",
        "\n",
        "In the future, problems such as **sudden breaks** in drilling could be avoided by doing **optimization** in the line."
      ],
      "metadata": {
        "id": "Keindf_njy9d"
      }
    },
    {
      "cell_type": "code",
      "source": [
        "import pyswarm as pso\n",
        "\n",
        "# Define objective function. \"pipe\" as model\n",
        "def f(X):\n",
        "    return -pipe.predict(X.reshape(1,-1)) # Minus sign to optimize\n",
        "\n",
        "# Lower bounds of feature variables in the order of X.columns\n",
        "lb = np.array([3480, 2e4, 1.5, 0.09, 0.1, 1, 0.001])\n",
        "\n",
        "# Upper bounds of feature variables in the order of X.columns\n",
        "ub = np.array([3480, 9e4, 2.5, 0.09, 0.1, 1, 0.001])\n",
        "# ub += 1e-10\n",
        "\n",
        "# Solve optimization\n",
        "xopt, fopt = pso(f, lb, ub, swarmsize=200, omega=0.3, phip=.5, phig=0.7, maxiter=1000, minstep=1e-8)\n",
        "\n",
        "# Print values that causes maximum ROP from xopt\n",
        "for i in range(len(X.columns)):\n",
        "  print(f'{X.columns[i]}: {xopt[i]:.2f}')\n",
        "\n",
        "# Print value of maximum ROP from popt\n",
        "print(f'Maximum ROP achieved: {-fopt}')"
      ],
      "metadata": {
        "id": "FygbTyk3gFiq"
      },
      "execution_count": 59,
      "outputs": []
    },
    {
      "cell_type": "code",
      "source": [],
      "metadata": {
        "id": "KQh5OquJ5oB_"
      },
      "execution_count": null,
      "outputs": []
    }
  ]
}